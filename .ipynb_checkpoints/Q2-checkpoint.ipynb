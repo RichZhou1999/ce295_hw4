{
 "cells": [
  {
   "cell_type": "code",
   "execution_count": 2,
   "id": "e55f2f24",
   "metadata": {},
   "outputs": [],
   "source": [
    "import pandas as pd \n",
    "import matplotlib.pyplot as plt\n",
    "import numpy as np\n",
    "import datetime"
   ]
  },
  {
   "cell_type": "code",
   "execution_count": 3,
   "id": "abac00bd",
   "metadata": {},
   "outputs": [],
   "source": [
    "test_data = pd.read_csv(\"HW4_Train_Data.csv\")"
   ]
  },
  {
   "cell_type": "code",
   "execution_count": 7,
   "id": "93176c9b",
   "metadata": {},
   "outputs": [
    {
     "name": "stdout",
     "output_type": "stream",
     "text": [
      "[0.1323085901027098, 1.432121848739501, 0.1876202147525609, 0.24053221288513826, 0.12135971055089394, 0.45263538748832566, 0.28630485527543675, 0.22728408029877514, 0.25257119514472376, 0.1657656395891648, 0.3864110644257691, 0.21447829131652227, 0.17772175536881107, 0.14771825396824298, 0.21725140056020797, 0.18385737628384383, 0.29989028944911184, 0.15576797385620125]\n"
     ]
    }
   ],
   "source": [
    "build_avg_consumption = []\n",
    "build_std_consumption = []\n",
    "for i in range(19):\n",
    "    if i != 5:\n",
    "        temp = np.mean(test_data[\"Bldg%d (kWh)\"%(i+1)])\n",
    "        build_avg_consumption.append(temp)\n",
    "        build_std_consumption.append(np.std(test_data[\"Bldg%d (kWh)\"%(i+1)]))\n",
    "print(build_avg_consumption)\n"
   ]
  },
  {
   "cell_type": "code",
   "execution_count": 9,
   "id": "ea126954",
   "metadata": {},
   "outputs": [
    {
     "data": {
      "text/plain": [
       "Text(0, 0.5, 'Average Consumption')"
      ]
     },
     "execution_count": 9,
     "metadata": {},
     "output_type": "execute_result"
    },
    {
     "data": {
      "image/png": "[encoded data removed]",
      "text/plain": [
       "<Figure size 640x480 with 1 Axes>"
      ]
     },
     "metadata": {},
     "output_type": "display_data"
    }
   ],
   "source": [
    "building_index = [i+1 for i in range(18)]\n",
    "fig, ax = plt.subplots()\n",
    "ax.bar(building_index, build_avg_consumption)\n",
    "ax.errorbar(building_index, build_avg_consumption, yerr=build_std_consumption, fmt='o', color='red')\n",
    "ax.set_xlabel('Building index')\n",
    "ax.set_ylabel('Average Consumption')"
   ]
  },
  {
   "cell_type": "code",
   "execution_count": 12,
   "id": "4ce542e2",
   "metadata": {},
   "outputs": [],
   "source": [
    "build_avg_consumption = []\n",
    "build_std_consumption = []\n",
    "build_max_consumption = []\n",
    "for i in range(19):\n",
    "    if i != 5:\n",
    "        temp = np.mean(test_data[\"Bldg%d (kWh)\"%(i+1)])\n",
    "        build_avg_consumption.append(temp)\n",
    "        build_std_consumption.append(np.std(test_data[\"Bldg%d (kWh)\"%(i+1)]))\n",
    "        build_max_consumption.append(np.max(test_data[\"Bldg%d (kWh)\"%(i+1)]))"
   ]
  },
  {
   "cell_type": "code",
   "execution_count": 13,
   "id": "044b99f5",
   "metadata": {},
   "outputs": [
    {
     "ename": "NameError",
     "evalue": "name 'data' is not defined",
     "output_type": "error",
     "traceback": [
      "\u001b[0;31m---------------------------------------------------------------------------\u001b[0m",
      "\u001b[0;31mNameError\u001b[0m                                 Traceback (most recent call last)",
      "\u001b[0;32m/var/folders/hd/7mhwbm312jd2fp_tb35yjgvc0000gn/T/ipykernel_2375/2567604676.py\u001b[0m in \u001b[0;36m<module>\u001b[0;34m\u001b[0m\n\u001b[0;32m----> 1\u001b[0;31m \u001b[0msize\u001b[0m \u001b[0;34m=\u001b[0m \u001b[0mlen\u001b[0m\u001b[0;34m(\u001b[0m\u001b[0mdata\u001b[0m\u001b[0;34m)\u001b[0m \u001b[0;34m*\u001b[0m \u001b[0;36m18\u001b[0m\u001b[0;34m\u001b[0m\u001b[0;34m\u001b[0m\u001b[0m\n\u001b[0m\u001b[1;32m      2\u001b[0m \u001b[0mrandom_data\u001b[0m \u001b[0;34m=\u001b[0m \u001b[0mnp\u001b[0m\u001b[0;34m.\u001b[0m\u001b[0mrandom\u001b[0m\u001b[0;34m.\u001b[0m\u001b[0mrand\u001b[0m\u001b[0;34m(\u001b[0m\u001b[0msize\u001b[0m\u001b[0;34m,\u001b[0m \u001b[0;36m5\u001b[0m\u001b[0;34m)\u001b[0m\u001b[0;34m\u001b[0m\u001b[0;34m\u001b[0m\u001b[0m\n\u001b[1;32m      3\u001b[0m \u001b[0;34m\u001b[0m\u001b[0m\n\u001b[1;32m      4\u001b[0m \u001b[0;31m# Create a pandas DataFrame from the numpy array\u001b[0m\u001b[0;34m\u001b[0m\u001b[0;34m\u001b[0m\u001b[0m\n\u001b[1;32m      5\u001b[0m \u001b[0morganized_data\u001b[0m \u001b[0;34m=\u001b[0m \u001b[0mpd\u001b[0m\u001b[0;34m.\u001b[0m\u001b[0mDataFrame\u001b[0m\u001b[0;34m(\u001b[0m\u001b[0mrandom_data\u001b[0m\u001b[0;34m,\u001b[0m \u001b[0mcolumns\u001b[0m\u001b[0;34m=\u001b[0m\u001b[0;34m[\u001b[0m\u001b[0;34m'Building_index'\u001b[0m\u001b[0;34m,\u001b[0m \u001b[0;34m'week_of_year'\u001b[0m\u001b[0;34m,\u001b[0m \u001b[0;34m'day_of_week'\u001b[0m\u001b[0;34m,\u001b[0m \u001b[0;34m'hour_of_day'\u001b[0m\u001b[0;34m,\u001b[0m\u001b[0;34m\"normalized_energy\"\u001b[0m\u001b[0;34m]\u001b[0m\u001b[0;34m)\u001b[0m\u001b[0;34m\u001b[0m\u001b[0;34m\u001b[0m\u001b[0m\n",
      "\u001b[0;31mNameError\u001b[0m: name 'data' is not defined"
     ]
    }
   ],
   "source": [
    "size = len(test_data) * 18\n",
    "random_data = np.random.rand(size, 5)\n",
    "\n",
    "# Create a pandas DataFrame from the numpy array\n",
    "organized_data = pd.DataFrame(random_data, columns=['Building_index', 'week_of_year', 'day_of_week', 'hour_of_day',\"normalized_energy\"])\n",
    "index = 0\n",
    "\n",
    "build_max_consumption = []\n",
    "for i in range(19):\n",
    "    if i == 5:\n",
    "        build_max_consumption.append(None)\n",
    "    if i != 5:\n",
    "        build_max_consumption.append(np.max(data[\"Bldg%d (kWh)\"%(i+1)]))\n",
    "\n",
    "for i in range(len(data)):\n",
    "    temp = data.loc[i]\n",
    "    date_string = temp[\"Start Time (GMT-0800,PST)\"]\n",
    "    date_obj = datetime.datetime.strptime(date_string, '%m/%d/%y %H:%M')\n",
    "    week_of_year = date_obj.isocalendar()[1]\n",
    "    day_of_week = date_obj.weekday()\n",
    "    hour_of_day = date_obj.hour\n",
    "    for j in range(19):\n",
    "        if j != 5:\n",
    "            value = temp[\"Bldg%d (kWh)\"%(j+1)] / build_max_consumption[j]\n",
    "            organized_data.loc[index] = [(j+1), week_of_year, day_of_week,hour_of_day, value ]\n",
    "            index += 1\n",
    "print(organized_data)"
   ]
  },
  {
   "cell_type": "code",
   "execution_count": null,
   "id": "3270d16e",
   "metadata": {},
   "outputs": [],
   "source": []
  }
 ],
 "metadata": {
  "kernelspec": {
   "display_name": "Python 3 (ipykernel)",
   "language": "python",
   "name": "python3"
  },
  "language_info": {
   "codemirror_mode": {
    "name": "ipython",
    "version": 3
   },
   "file_extension": ".py",
   "mimetype": "text/x-python",
   "name": "python",
   "nbconvert_exporter": "python",
   "pygments_lexer": "ipython3",
   "version": "3.9.13"
  }
 },
 "nbformat": 4,
 "nbformat_minor": 5
}
